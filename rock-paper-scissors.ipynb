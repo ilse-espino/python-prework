{
 "cells": [
  {
   "cell_type": "markdown",
   "metadata": {},
   "source": [
    "<img src=\"https://bit.ly/2VnXWr2\" width=\"100\" align=\"left\">"
   ]
  },
  {
   "cell_type": "markdown",
   "metadata": {},
   "source": [
    "# Rock, Paper & Scissors\n",
    "\n",
    "Let's play the famous game against our computer. You can check the rules [here](https://en.wikipedia.org/wiki/Rock%E2%80%93paper%E2%80%93scissors). \n",
    "\n",
    "## Task\n",
    "Create a program that imitates the playability of the well known game of rock, paper, scissors. Follow the guidelines provided.\n",
    "\n",
    "## Tools\n",
    "1. Loop: **for/while**\n",
    "2. Functions: **input(), print()...**\n",
    "3. Conditional statements: **if, elif, else**\n",
    "4. Definition of functions. Modular programming\n",
    "5. Import modules\n",
    "\n",
    "**To solve this challenge, the use of functions is recommended.**\n",
    "\n",
    "#### 1. Import the choice function of the random module."
   ]
  },
  {
   "cell_type": "code",
   "execution_count": 1,
   "metadata": {},
   "outputs": [],
   "source": [
    "import random"
   ]
  },
  {
   "cell_type": "markdown",
   "metadata": {},
   "source": [
    "#### 2. Create a list that includes the 3 possible gesture options of the game: 'rock', 'paper' or 'scissors'. Store the list in a variable called `gestures`."
   ]
  },
  {
   "cell_type": "code",
   "execution_count": 2,
   "metadata": {},
   "outputs": [],
   "source": [
    "gestures = [\"rock\",\"paper\",\"scissors\"]"
   ]
  },
  {
   "cell_type": "markdown",
   "metadata": {},
   "source": [
    "#### 3. Create a variable called `n_rounds` to store the maximum number of rounds to play in a game. \n",
    "Remember that the number of rounds must be odd: 1, 3, 5, ..."
   ]
  },
  {
   "cell_type": "code",
   "execution_count": 3,
   "metadata": {},
   "outputs": [],
   "source": [
    "n_rounds = 3"
   ]
  },
  {
   "cell_type": "markdown",
   "metadata": {},
   "source": [
    "#### 4. Create a variable called `rounds_to_win` to store the number of rounds that a player must win to win the game.\n",
    "**Hint**: the value stored in `rounds_to_win` depends on the value of `n_rounds`. "
   ]
  },
  {
   "cell_type": "code",
   "execution_count": 4,
   "metadata": {},
   "outputs": [],
   "source": [
    "rounds_to_win = (n_rounds + 1)/2"
   ]
  },
  {
   "cell_type": "markdown",
   "metadata": {},
   "source": [
    "#### 5. Create two variables to store the number of rounds that the computer and the player have won. Call these variables `cpu_score` and `player_score`."
   ]
  },
  {
   "cell_type": "code",
   "execution_count": 13,
   "metadata": {},
   "outputs": [],
   "source": [
    "cpu_score = 0\n",
    "player_score = 0"
   ]
  },
  {
   "cell_type": "markdown",
   "metadata": {},
   "source": [
    "#### 6. Define a function that randomly returns one of the 3 gesture options.\n",
    "You will use this function to simulate the gesture choice of the computer. "
   ]
  },
  {
   "cell_type": "code",
   "execution_count": 6,
   "metadata": {},
   "outputs": [],
   "source": [
    "def ran_gesture():\n",
    "    cpu_gesture = gestures[random.randrange(3)]\n",
    "    return cpu_gesture"
   ]
  },
  {
   "cell_type": "markdown",
   "metadata": {},
   "source": [
    "#### 7. Define a function that asks the player which is the gesture he or she wants to show: 'rock', 'paper' or 'scissors'.\n",
    "The player should only be allowed to choose one of the 3 gesture options. If the player's choice is not rock, paper or scissors, keep asking until it is."
   ]
  },
  {
   "cell_type": "code",
   "execution_count": 7,
   "metadata": {},
   "outputs": [],
   "source": [
    "def ask_gesture():\n",
    "    while True:\n",
    "        player_gesture = input(\"Which gesture do you want to show (rock, paper, scissors)?\")\n",
    "        if (player_gesture == \"rock\") or (player_gesture == \"paper\") or (player_gesture == \"scissors\"):\n",
    "            break\n",
    "        else:\n",
    "            print(\"That's is not a valid gesture.\")\n",
    "    return player_gesture"
   ]
  },
  {
   "cell_type": "markdown",
   "metadata": {},
   "source": [
    "#### 8. Define a function that checks who won a round. \n",
    "The function should return 0 if there is a tie, 1 if the computer wins and 2 if the player wins."
   ]
  },
  {
   "cell_type": "code",
   "execution_count": 8,
   "metadata": {},
   "outputs": [],
   "source": [
    "def winner(cpu,player):\n",
    "    winner = 0\n",
    "    if cpu == player:\n",
    "        winner = 0\n",
    "    elif (cpu == \"rock\") & (player != \"paper\"):\n",
    "        winner = 1\n",
    "    elif (cpu == \"paper\") & (player != \"scissors\"):\n",
    "        winner = 1\n",
    "    elif (cpu == \"scissors\") & (player != \"rock\"):\n",
    "        winner = 1\n",
    "    elif (player == \"rock\") & (cpu != \"paper\"):\n",
    "        winner = 2\n",
    "    elif (player == \"paper\") & (cpu != \"scissors\"):\n",
    "        winner = 2\n",
    "    elif (player == \"scissors\") & (cpu != \"rock\"):\n",
    "        winner = 2\n",
    "    return winner"
   ]
  },
  {
   "cell_type": "markdown",
   "metadata": {},
   "source": [
    "#### 9. Define a function that prints the choice of the computer, the choice of the player and a message that announces who won the current round. \n",
    "You should also use this function to update the variables that count the number of rounds that the computer and the player have won. The score of the winner increases by one point. If there is a tie, the score does not increase."
   ]
  },
  {
   "cell_type": "code",
   "execution_count": 9,
   "metadata": {},
   "outputs": [],
   "source": [
    "def game():\n",
    "    global cpu_score\n",
    "    global player_score\n",
    "    cpu = ran_gesture()\n",
    "    player = ask_gesture()\n",
    "    round_winner = winner(cpu,player)\n",
    "    print(\"CPU's choice: \" + cpu)\n",
    "    print(\"Player's choice: \" + player)\n",
    "    if round_winner == 1:\n",
    "        print(\"The winner of this round is CPU.\")\n",
    "        cpu_score += 1\n",
    "    elif round_winner == 2:\n",
    "        print(\"The winner of this round is Player.\")\n",
    "        player_score += 1\n",
    "    else:\n",
    "        print(\"This round is a Tie.\")"
   ]
  },
  {
   "cell_type": "markdown",
   "metadata": {},
   "source": [
    "#### 10. Now it's time to code the execution of the game using the functions and variables you defined above. \n",
    "\n",
    "First, create a loop structure that repeats while no player reaches the minimum score necessary to win and the number of rounds is less than the maximum number of rounds to play in a game.  \n",
    "\n",
    "Inside the loop, use the functions and variables above to create the execution of a round: ask for the player's choice, generate the random choice of the computer, show the round results, update the scores, etc. "
   ]
  },
  {
   "cell_type": "code",
   "execution_count": 10,
   "metadata": {},
   "outputs": [
    {
     "name": "stdout",
     "output_type": "stream",
     "text": [
      "Which gesture do you want to show (rock, paper, scissors)?rock\n",
      "CPU's choice: rock\n",
      "Player's choice: rock\n",
      "This round is a Tie.\n",
      "Which gesture do you want to show (rock, paper, scissors)?papers\n",
      "That's is not a valid gesture.\n",
      "Which gesture do you want to show (rock, paper, scissors)?paper\n",
      "CPU's choice: scissors\n",
      "Player's choice: paper\n",
      "The winner of this round is CPU.\n",
      "Which gesture do you want to show (rock, paper, scissors)?scissors\n",
      "CPU's choice: rock\n",
      "Player's choice: scissors\n",
      "The winner of this round is CPU.\n"
     ]
    }
   ],
   "source": [
    "# must restart cpu_score and player_score before each game because they are global\n",
    "rounds = 0\n",
    "while (rounds < n_rounds):\n",
    "    rounds += 1\n",
    "    game()\n",
    "    if (cpu_score == rounds_to_win) or (player_score == rounds_to_win):\n",
    "        break"
   ]
  },
  {
   "cell_type": "markdown",
   "metadata": {},
   "source": [
    "#### 11. Print the winner of the game based on who won more rounds.\n",
    "Remember that the game might be tied. "
   ]
  },
  {
   "cell_type": "code",
   "execution_count": 11,
   "metadata": {},
   "outputs": [
    {
     "name": "stdout",
     "output_type": "stream",
     "text": [
      "The winner is CPU.\n"
     ]
    }
   ],
   "source": [
    "if cpu_score > player_score:\n",
    "    print(\"The winner is CPU.\")\n",
    "elif cpu_score == player_score:\n",
    "    print(\"It's a tie.\")\n",
    "else:\n",
    "    print(\"The winner is Player.\")"
   ]
  },
  {
   "cell_type": "markdown",
   "metadata": {},
   "source": [
    "# Bonus: Rock, Paper, Scissors, Lizard & Spock\n",
    "![](images/rpsls.jpg)\n",
    "\n",
    "In this challenge, you need to improve the previous game by adding two new options. To know more about the rules of the improved version of rock, paper, scissors, check this [link](http://www.samkass.com/theories/RPSSL.html). \n",
    "\n",
    "In addition, you will also need to improve how the game interacts with the player: the number of rounds to play, which must be an odd number, will be requested to the user until a valid number is entered. Define a new function to make that request.\n",
    "\n",
    "**Hint**: Try to reuse the code that you already coded in the previous challenge. If your code is efficient, this bonus will only consist of simple modifications to the original game."
   ]
  },
  {
   "cell_type": "code",
   "execution_count": 14,
   "metadata": {},
   "outputs": [
    {
     "name": "stdout",
     "output_type": "stream",
     "text": [
      "How many rounds do you want to play (must be an odd number)?6\n",
      "That's is not an odd number.\n",
      "How many rounds do you want to play (must be an odd number)?2\n",
      "That's is not an odd number.\n",
      "How many rounds do you want to play (must be an odd number)?5\n",
      "Which gesture do you want to show (rock, paper, scissors, lizard, spock)?lizard\n",
      "CPU's choice: paper\n",
      "Player's choice: lizard\n",
      "The winner of this round is Player.\n",
      "Which gesture do you want to show (rock, paper, scissors, lizard, spock)?lizard\n",
      "CPU's choice: rock\n",
      "Player's choice: lizard\n",
      "The winner of this round is CPU.\n",
      "Which gesture do you want to show (rock, paper, scissors, lizard, spock)?spock\n",
      "CPU's choice: spock\n",
      "Player's choice: spock\n",
      "This round is a Tie.\n",
      "Which gesture do you want to show (rock, paper, scissors, lizard, spock)?paper\n",
      "CPU's choice: paper\n",
      "Player's choice: paper\n",
      "This round is a Tie.\n",
      "Which gesture do you want to show (rock, paper, scissors, lizard, spock)?rock\n",
      "CPU's choice: spock\n",
      "Player's choice: rock\n",
      "The winner of this round is CPU.\n",
      "The winner is CPU.\n"
     ]
    }
   ],
   "source": [
    "def ask_rounds():\n",
    "    while True:\n",
    "        rounds_bonus = input(\"How many rounds do you want to play (must be an odd number)?\")\n",
    "        if (int(rounds_bonus) % 2 == 1) :\n",
    "            break\n",
    "        else:\n",
    "            print(\"That's is not an odd number.\")\n",
    "    return int(rounds_bonus)\n",
    "\n",
    "def ask_gesture_bonus():\n",
    "    while True:\n",
    "        player_gesture_bonus = input(\"Which gesture do you want to show (rock, paper, scissors, lizard, spock)?\")\n",
    "        if (player_gesture_bonus == \"rock\") or (player_gesture_bonus == \"paper\") or (player_gesture_bonus == \"scissors\") or (player_gesture_bonus == \"lizard\") or (player_gesture_bonus == \"spock\"):\n",
    "            break\n",
    "        else:\n",
    "            print(\"That's is not a valid gesture.\")\n",
    "    return player_gesture_bonus\n",
    "\n",
    "gestures_bonus = [\"rock\",\"paper\",\"scissors\",\"lizard\",\"spock\"]\n",
    "def ran_gesture_bonus():\n",
    "    cpu_gesture = gestures_bonus[random.randrange(5)]\n",
    "    return cpu_gesture\n",
    "\n",
    "def winner_bonus(cpu,player):\n",
    "    winner = 0\n",
    "    if cpu == player:\n",
    "        winner = 0\n",
    "    elif (cpu == \"rock\") & (player != \"paper\") & (player != \"spock\"):\n",
    "        winner = 1\n",
    "    elif (cpu == \"paper\") & (player != \"scissors\") & (player != \"lizard\"):\n",
    "        winner = 1       \n",
    "    elif (cpu == \"scissors\") & (player != \"spock\") & (player != \"rock\"):\n",
    "        winner = 1\n",
    "    elif (cpu == \"lizard\") & (player != \"rock\") & (player != \"scissors\"):\n",
    "        winner = 1\n",
    "    elif (cpu == \"spock\") & (player != \"lizard\") & (player !=\"paper\"):\n",
    "        winner = 1\n",
    "    elif (player == \"rock\") & (cpu != \"paper\") & (player != \"spock\"):\n",
    "        winner = 2\n",
    "    elif (player == \"paper\") & (cpu != \"scissors\") & (player != \"lizard\"):\n",
    "        winner = 2       \n",
    "    elif (player == \"scissors\") & (cpu != \"spock\") & (player != \"rock\"):\n",
    "        winner = 2\n",
    "    elif (player == \"lizard\") & (cpu != \"rock\") & (player != \"scissors\"):\n",
    "        winner = 2\n",
    "    elif (player == \"spock\") & (cpu != \"lizard\") & (player != \"paper\"):\n",
    "        winner = 2             \n",
    "    return winner\n",
    "\n",
    "\n",
    "def game_bonus():\n",
    "    global cpu_score\n",
    "    global player_score\n",
    "    cpu = ran_gesture_bonus()\n",
    "    player = ask_gesture_bonus()\n",
    "    round_winner = winner_bonus(cpu,player)\n",
    "    print(\"CPU's choice: \" + cpu)\n",
    "    print(\"Player's choice: \" + player)\n",
    "    if round_winner == 1:\n",
    "        print(\"The winner of this round is CPU.\")\n",
    "        cpu_score += 1\n",
    "    elif round_winner == 2:\n",
    "        print(\"The winner of this round is Player.\")\n",
    "        player_score += 1\n",
    "    else:\n",
    "        print(\"This round is a Tie.\")\n",
    "\n",
    "# must restart cpu_score and player_score before each game because they are global\n",
    "rounds_bonus = ask_rounds()        \n",
    "rounds_to_win_bonus = (rounds_bonus + 1)/2\n",
    "rounds = 0\n",
    "while (rounds < rounds_bonus):\n",
    "    rounds += 1\n",
    "    game_bonus()\n",
    "    if (cpu_score == rounds_to_win_bonus) or (player_score == rounds_to_win_bonus):\n",
    "        break\n",
    "if cpu_score > player_score:\n",
    "    print(\"The winner is CPU.\")\n",
    "elif cpu_score == player_score:\n",
    "    print(\"It's a tie.\")\n",
    "else:\n",
    "    print(\"The winner is Player.\")"
   ]
  }
 ],
 "metadata": {
  "kernelspec": {
   "display_name": "Python 3",
   "language": "python",
   "name": "python3"
  },
  "language_info": {
   "codemirror_mode": {
    "name": "ipython",
    "version": 3
   },
   "file_extension": ".py",
   "mimetype": "text/x-python",
   "name": "python",
   "nbconvert_exporter": "python",
   "pygments_lexer": "ipython3",
   "version": "3.7.4"
  }
 },
 "nbformat": 4,
 "nbformat_minor": 2
}
